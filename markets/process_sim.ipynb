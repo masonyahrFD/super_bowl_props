{
 "cells": [
  {
   "cell_type": "code",
   "execution_count": 1,
   "metadata": {},
   "outputs": [
    {
     "name": "stdout",
     "output_type": "stream",
     "text": [
      "dict_keys(['GameId', 'Solution', 'MarketIdentifiers', 'BatchingEnabled', 'HomePlayers', 'AwayPlayers', 'SimulationResults', 'NextPlayProbabilities', 'EventId', 'NumberOfSimulations', 'HomeTeamStats', 'AwayTeamStats', 'ModelInputs'])\n",
      "Parsing results for 10000 of simulations\n"
     ]
    },
    {
     "name": "stderr",
     "output_type": "stream",
     "text": [
      "100%|██████████| 10000/10000 [01:29<00:00, 111.31it/s]\n"
     ]
    }
   ],
   "source": [
    "import pandas as pd\n",
    "import numpy as np\n",
    "import json \n",
    "from tqdm import tqdm\n",
    "\n",
    "f = open(\"../data/sample_sim.json\") # whatever the name of your sim json file is\n",
    "sims = json.load(f)\n",
    "\n",
    "print(sims.keys())\n",
    "# SimulationResults has the goods in it\n",
    "\n",
    "def to_df(x, name=None):\n",
    "    \"\"\"\n",
    "    Simple function that converts\n",
    "    different objects to a pandas\n",
    "    DataFrame. (Probably bad code)\n",
    "    \"\"\"\n",
    "    try:\n",
    "        out = pd.DataFrame(x)\n",
    "    except:\n",
    "        try:\n",
    "            out = pd.DataFrame(x, index = [0])\n",
    "            if name is not None:\n",
    "                out.columns = [f\"{name}_{c}\" for c in out.columns]\n",
    "        except:\n",
    "            out = pd.DataFrame({name:x},index=[0])\n",
    "    return out\n",
    "\n",
    "def parse_sim_results(sims, SimIndex):\n",
    "    \"\"\"\n",
    "    Function to process a single simulation\n",
    "    \"\"\"\n",
    "    # pull out simulation result\n",
    "    result = sims[\"SimulationResults\"][SimIndex]\n",
    "    \n",
    "    result_dict = {\"SimResults\": pd.DataFrame({\"SimIndex\":SimIndex},index=[0])}\n",
    "    for key in result.keys():\n",
    "        element_df = to_df(result[key], key)\n",
    "        if element_df.shape[0] == 1:\n",
    "            result_dict[\"SimResults\"] = pd.concat([result_dict[\"SimResults\"], element_df], axis = 1)\n",
    "        else:\n",
    "            if \"SimIndex\" not in element_df.columns:\n",
    "                element_df[\"SimIndex\"] = SimIndex\n",
    "            result_dict[key] = element_df\n",
    "\n",
    "    return result_dict\n",
    "\n",
    "def process_simulation_results(sims):\n",
    "    \"\"\"\n",
    "    Function to process all of the sims\n",
    "    \"\"\"\n",
    "    n_sims = sims[\"NumberOfSimulations\"]\n",
    "    print(f\"Parsing results for {n_sims} of simulations\")\n",
    "\n",
    "    sim_results = {}\n",
    "    for i in tqdm(range(n_sims)):\n",
    "        sim_i_result = parse_sim_results(sims, i)\n",
    "        for key in sim_i_result.keys():\n",
    "            if key in sim_results.keys():\n",
    "                sim_results[key] = pd.concat([sim_results[key], sim_i_result[key]], axis=0)\n",
    "            else:\n",
    "                sim_results[key] = sim_i_result[key]\n",
    "\n",
    "    return sim_results\n",
    "\n",
    "\n",
    "# Process the Simulation Results\n",
    "SimulationResults = process_simulation_results(sims)\n"
   ]
  },
  {
   "cell_type": "code",
   "execution_count": 6,
   "metadata": {},
   "outputs": [
    {
     "data": {
      "text/plain": [
       "10197739"
      ]
     },
     "execution_count": 6,
     "metadata": {},
     "output_type": "execute_result"
    }
   ],
   "source": [
    "sims[\"EventId\"]"
   ]
  },
  {
   "cell_type": "code",
   "execution_count": 2,
   "metadata": {},
   "outputs": [
    {
     "data": {
      "text/plain": [
       "dict_keys(['SimResults', 'ScoringPlays', 'PlayerYards'])"
      ]
     },
     "execution_count": 2,
     "metadata": {},
     "output_type": "execute_result"
    }
   ],
   "source": [
    "SimulationResults.keys()"
   ]
  },
  {
   "cell_type": "code",
   "execution_count": 26,
   "metadata": {},
   "outputs": [],
   "source": [
    "# pull out id tables\n",
    "AwayPlayers = pd.DataFrame(sims[\"AwayPlayers\"])\n",
    "HomePlayers = pd.DataFrame(sims[\"HomePlayers\"])"
   ]
  },
  {
   "cell_type": "code",
   "execution_count": 4,
   "metadata": {},
   "outputs": [
    {
     "data": {
      "text/html": [
       "<div>\n",
       "<style scoped>\n",
       "    .dataframe tbody tr th:only-of-type {\n",
       "        vertical-align: middle;\n",
       "    }\n",
       "\n",
       "    .dataframe tbody tr th {\n",
       "        vertical-align: top;\n",
       "    }\n",
       "\n",
       "    .dataframe thead th {\n",
       "        text-align: right;\n",
       "    }\n",
       "</style>\n",
       "<table border=\"1\" class=\"dataframe\">\n",
       "  <thead>\n",
       "    <tr style=\"text-align: right;\">\n",
       "      <th></th>\n",
       "      <th>PropositionIndex</th>\n",
       "      <th>PropositionType</th>\n",
       "      <th>Line</th>\n",
       "      <th>OverProbability</th>\n",
       "    </tr>\n",
       "  </thead>\n",
       "  <tbody>\n",
       "    <tr>\n",
       "      <th>7</th>\n",
       "      <td>0</td>\n",
       "      <td>12</td>\n",
       "      <td>245.5</td>\n",
       "      <td>0.500000</td>\n",
       "    </tr>\n",
       "    <tr>\n",
       "      <th>0</th>\n",
       "      <td>1</td>\n",
       "      <td>1</td>\n",
       "      <td>236.5</td>\n",
       "      <td>0.500000</td>\n",
       "    </tr>\n",
       "    <tr>\n",
       "      <th>4</th>\n",
       "      <td>0</td>\n",
       "      <td>4</td>\n",
       "      <td>37.5</td>\n",
       "      <td>0.500000</td>\n",
       "    </tr>\n",
       "    <tr>\n",
       "      <th>3</th>\n",
       "      <td>0</td>\n",
       "      <td>24</td>\n",
       "      <td>30.5</td>\n",
       "      <td>0.500000</td>\n",
       "    </tr>\n",
       "    <tr>\n",
       "      <th>10</th>\n",
       "      <td>3</td>\n",
       "      <td>17</td>\n",
       "      <td>25.0</td>\n",
       "      <td>0.285714</td>\n",
       "    </tr>\n",
       "    <tr>\n",
       "      <th>6</th>\n",
       "      <td>0</td>\n",
       "      <td>2</td>\n",
       "      <td>20.5</td>\n",
       "      <td>0.465116</td>\n",
       "    </tr>\n",
       "    <tr>\n",
       "      <th>8</th>\n",
       "      <td>2</td>\n",
       "      <td>17</td>\n",
       "      <td>20.0</td>\n",
       "      <td>0.454545</td>\n",
       "    </tr>\n",
       "    <tr>\n",
       "      <th>9</th>\n",
       "      <td>1</td>\n",
       "      <td>19</td>\n",
       "      <td>15.0</td>\n",
       "      <td>0.333333</td>\n",
       "    </tr>\n",
       "    <tr>\n",
       "      <th>5</th>\n",
       "      <td>5</td>\n",
       "      <td>5</td>\n",
       "      <td>6.5</td>\n",
       "      <td>0.526316</td>\n",
       "    </tr>\n",
       "    <tr>\n",
       "      <th>1</th>\n",
       "      <td>0</td>\n",
       "      <td>3</td>\n",
       "      <td>1.5</td>\n",
       "      <td>0.454545</td>\n",
       "    </tr>\n",
       "    <tr>\n",
       "      <th>2</th>\n",
       "      <td>0</td>\n",
       "      <td>28</td>\n",
       "      <td>0.5</td>\n",
       "      <td>0.526316</td>\n",
       "    </tr>\n",
       "  </tbody>\n",
       "</table>\n",
       "</div>"
      ],
      "text/plain": [
       "    PropositionIndex  PropositionType   Line  OverProbability\n",
       "7                  0               12  245.5         0.500000\n",
       "0                  1                1  236.5         0.500000\n",
       "4                  0                4   37.5         0.500000\n",
       "3                  0               24   30.5         0.500000\n",
       "10                 3               17   25.0         0.285714\n",
       "6                  0                2   20.5         0.465116\n",
       "8                  2               17   20.0         0.454545\n",
       "9                  1               19   15.0         0.333333\n",
       "5                  5                5    6.5         0.526316\n",
       "1                  0                3    1.5         0.454545\n",
       "2                  0               28    0.5         0.526316"
      ]
     },
     "execution_count": 4,
     "metadata": {},
     "output_type": "execute_result"
    }
   ],
   "source": [
    "\n",
    "name = 'Brock Purdy'\n",
    "pd.DataFrame(pd.concat([HomePlayers, AwayPlayers],axis=0).query(f\"PlayerName=='{name}'\")[\"Propositions\"].values[0]).sort_values(\"Line\",ascending=False)"
   ]
  },
  {
   "attachments": {},
   "cell_type": "markdown",
   "metadata": {},
   "source": [
    "Proposition Types:\n",
    "- 1 = passing yards\n",
    "- 5 = rushing yards\n",
    "- 6 = rushing att -- > not certain\n",
    "- 8 = recieving yards\n",
    "- 9 = Receptions\n",
    "- 13 = Total Yards"
   ]
  },
  {
   "attachments": {},
   "cell_type": "markdown",
   "metadata": {},
   "source": [
    "## Any Player to Rush for 100 Yards"
   ]
  },
  {
   "cell_type": "code",
   "execution_count": 7,
   "metadata": {},
   "outputs": [
    {
     "data": {
      "text/plain": [
       "0.2874"
      ]
     },
     "execution_count": 7,
     "metadata": {},
     "output_type": "execute_result"
    }
   ],
   "source": [
    "def any_player_to_rush_for_x_yards(SimulationResults, yards):\n",
    "\n",
    "    plr_yards = SimulationResults[\"PlayerYards\"]\\\n",
    "        .query(\"PropositionType==5\").copy()\n",
    "        \n",
    "    plr_yards[\"over_x\"] = [1 if x > yards else 0 for x in plr_yards[\"YardsGained\"]]\n",
    "\n",
    "    yards_sim = plr_yards.groupby(\"SimIndex\").agg({\"over_x\":\"sum\"}).reset_index()\n",
    "    yards_sim[\"over_x\"] = [1 if x > 0 else 0 for x in yards_sim[\"over_x\"]]\n",
    "\n",
    "    return np.mean(yards_sim[\"over_x\"])\n",
    "\n",
    "any_player_to_rush_for_x_yards(SimulationResults, 100)"
   ]
  },
  {
   "attachments": {},
   "cell_type": "markdown",
   "metadata": {},
   "source": [
    "## Will Team X Rush for  TD?"
   ]
  },
  {
   "cell_type": "code",
   "execution_count": 8,
   "metadata": {},
   "outputs": [
    {
     "data": {
      "text/plain": [
       "HomeRushingTouchdown    0.7328\n",
       "AwayRushingTouchdown    0.6034\n",
       "dtype: float64"
      ]
     },
     "execution_count": 8,
     "metadata": {},
     "output_type": "execute_result"
    }
   ],
   "source": [
    "def teams_to_rush_for_td(SimulationResults):\n",
    "\n",
    "    rush_tds = SimulationResults[\"SimResults\"]\\\n",
    "        .assign(\n",
    "            HomeRushingTouchdowns = lambda x: (\n",
    "                x.HomeTouchdowns_FirstQuarter + x.HomeTouchdowns_SecondQuarter +\n",
    "                x.HomeTouchdowns_ThirdQuarter + x.HomeTouchdowns_FourthQuarter + \n",
    "                x.HomeTouchdowns_Overtime - x.HomePassingTouchdowns\n",
    "            ),\n",
    "            AwayRushingTouchdowns = lambda x: (\n",
    "                x.AwayTouchdowns_FirstQuarter + x.AwayTouchdowns_SecondQuarter +\n",
    "                x.AwayTouchdowns_ThirdQuarter + x.AwayTouchdowns_FourthQuarter + \n",
    "                x.AwayTouchdowns_Overtime - x.AwayPassingTouchdowns\n",
    "            )\n",
    "        ).copy()\n",
    "    rush_tds[\"HomeRushingTouchdown\"] = [1 if x > 0 else 0 for x in rush_tds[\"HomeRushingTouchdowns\"]]\n",
    "    rush_tds[\"AwayRushingTouchdown\"] = [1 if x > 0 else 0 for x in rush_tds[\"AwayRushingTouchdowns\"]]\n",
    "\n",
    "    return rush_tds.agg({\"HomeRushingTouchdown\":\"mean\",\"AwayRushingTouchdown\":\"mean\"})\n",
    "\n",
    "teams_to_rush_for_td(SimulationResults)"
   ]
  },
  {
   "attachments": {},
   "cell_type": "markdown",
   "metadata": {},
   "source": [
    "## Yards Head to Head"
   ]
  },
  {
   "cell_type": "code",
   "execution_count": 9,
   "metadata": {},
   "outputs": [
    {
     "data": {
      "text/plain": [
       "{'Player1': 'Christian McCaffrey',\n",
       " 'Player2': 'Tony Pollard',\n",
       " 'Player1 Prob': 0.6743,\n",
       " 'Spread': -20.5,\n",
       " 'Total': 118.0}"
      ]
     },
     "execution_count": 9,
     "metadata": {},
     "output_type": "execute_result"
    }
   ],
   "source": [
    "plr1 = \"Ezekiel Elliott\"\n",
    "plr2 = \"Tony Pollard\"\n",
    "\n",
    "def head_to_head_yards(sims, SimulationResults, plr1, plr2, prop):\n",
    "\n",
    "    prop_dict = {\n",
    "        \"receiving\": 8,\n",
    "        \"rushing\": 5,\n",
    "        \"passing\": 1\n",
    "    }\n",
    "\n",
    "\n",
    "    assert prop in prop_dict.keys(), \"prop must be in ['receiving', 'rushing', 'passing']\"\n",
    "\n",
    "    # pull out id tables\n",
    "    AwayPlayers = pd.DataFrame(sims[\"AwayPlayers\"])\n",
    "    HomePlayers = pd.DataFrame(sims[\"HomePlayers\"])\n",
    "\n",
    "    yards_df = pd.concat([\n",
    "        HomePlayers[[\"PlayerId\", \"PlayerName\", \"Position\"]]\\\n",
    "            .merge(\n",
    "                SimulationResults[\"PlayerYards\"],\n",
    "                on = \"PlayerId\"\n",
    "            ),\n",
    "        AwayPlayers[[\"PlayerId\", \"PlayerName\", \"Position\"]]\\\n",
    "            .merge(\n",
    "                SimulationResults[\"PlayerYards\"],\n",
    "                on = \"PlayerId\"\n",
    "            )\n",
    "    ],axis=0)\\\n",
    "        .query(f\"PropositionType == {prop_dict[prop]}\")\n",
    "\n",
    "    yards_df = pd.merge(\n",
    "        yards_df.query(f\"PlayerName=='{plr1}'\")[[\"SimIndex\", \"YardsGained\"]],\n",
    "        yards_df.query(f\"PlayerName=='{plr2}'\")[[\"SimIndex\", \"YardsGained\"]],\n",
    "        on = \"SimIndex\", suffixes=[\"_plr1\", \"_plr2\"]\n",
    "    )\n",
    "\n",
    "    yards_df[\"total\"] = yards_df[\"YardsGained_plr1\"] + yards_df[\"YardsGained_plr2\"]\n",
    "    yards_df[\"plr1_diff\"] = yards_df[\"YardsGained_plr1\"] - yards_df[\"YardsGained_plr2\"]\n",
    "    yards_df[\"plr1_more\"] = yards_df.apply(lambda x: 1 if x.YardsGained_plr1 > x.YardsGained_plr2 else 0, axis = 1)\n",
    "\n",
    "    total = np.round(np.median(yards_df[\"total\"]) * 2)/2\n",
    "    plr_1_spread = np.round( -1*np.median(yards_df[\"plr1_diff\"]) * 2)/2\n",
    "    p_plr1_more = np.mean(yards_df[\"plr1_more\"])\n",
    "\n",
    "    ## add on juice\n",
    "\n",
    "\n",
    "    return {\n",
    "        \"Player1\": plr1,\n",
    "        \"Player2\": plr2,\n",
    "        \"Player1 Prob\": p_plr1_more,\n",
    "        \"Spread\": plr_1_spread,\n",
    "        \"Total\": total,\n",
    "    }\n",
    "\n",
    "\n",
    "plr1 = \"Christian McCaffrey\"\n",
    "plr2 = \"Tony Pollard\"\n",
    "head_to_head_yards(sims, SimulationResults, plr1, plr2, \"rushing\")\n"
   ]
  },
  {
   "cell_type": "code",
   "execution_count": 74,
   "metadata": {},
   "outputs": [
    {
     "data": {
      "text/plain": [
       "array([1, 5, 8])"
      ]
     },
     "execution_count": 74,
     "metadata": {},
     "output_type": "execute_result"
    }
   ],
   "source": [
    "SimulationResults[\"PlayerYards\"].PropositionType.unique()"
   ]
  },
  {
   "cell_type": "code",
   "execution_count": 76,
   "metadata": {},
   "outputs": [
    {
     "data": {
      "text/html": [
       "<div>\n",
       "<style scoped>\n",
       "    .dataframe tbody tr th:only-of-type {\n",
       "        vertical-align: middle;\n",
       "    }\n",
       "\n",
       "    .dataframe tbody tr th {\n",
       "        vertical-align: top;\n",
       "    }\n",
       "\n",
       "    .dataframe thead th {\n",
       "        text-align: right;\n",
       "    }\n",
       "</style>\n",
       "<table border=\"1\" class=\"dataframe\">\n",
       "  <thead>\n",
       "    <tr style=\"text-align: right;\">\n",
       "      <th></th>\n",
       "      <th>ScoreType</th>\n",
       "      <th>ScoringSide</th>\n",
       "      <th>Period</th>\n",
       "      <th>SecondsElapsedInQuarter</th>\n",
       "      <th>ScoringPlayerIndex</th>\n",
       "      <th>Method</th>\n",
       "      <th>ScoredByPassingPlayerIndex</th>\n",
       "      <th>ScoredByPassingPlayerId</th>\n",
       "      <th>SimIndex</th>\n",
       "    </tr>\n",
       "  </thead>\n",
       "  <tbody>\n",
       "    <tr>\n",
       "      <th>0</th>\n",
       "      <td>1</td>\n",
       "      <td>1</td>\n",
       "      <td>1</td>\n",
       "      <td>283</td>\n",
       "      <td>NaN</td>\n",
       "      <td>0</td>\n",
       "      <td>NaN</td>\n",
       "      <td>NaN</td>\n",
       "      <td>0</td>\n",
       "    </tr>\n",
       "    <tr>\n",
       "      <th>1</th>\n",
       "      <td>0</td>\n",
       "      <td>2</td>\n",
       "      <td>1</td>\n",
       "      <td>559</td>\n",
       "      <td>7.0</td>\n",
       "      <td>1</td>\n",
       "      <td>0.0</td>\n",
       "      <td>1519.0</td>\n",
       "      <td>0</td>\n",
       "    </tr>\n",
       "    <tr>\n",
       "      <th>2</th>\n",
       "      <td>2</td>\n",
       "      <td>2</td>\n",
       "      <td>1</td>\n",
       "      <td>564</td>\n",
       "      <td>NaN</td>\n",
       "      <td>0</td>\n",
       "      <td>NaN</td>\n",
       "      <td>NaN</td>\n",
       "      <td>0</td>\n",
       "    </tr>\n",
       "    <tr>\n",
       "      <th>3</th>\n",
       "      <td>1</td>\n",
       "      <td>2</td>\n",
       "      <td>1</td>\n",
       "      <td>759</td>\n",
       "      <td>NaN</td>\n",
       "      <td>0</td>\n",
       "      <td>NaN</td>\n",
       "      <td>NaN</td>\n",
       "      <td>0</td>\n",
       "    </tr>\n",
       "    <tr>\n",
       "      <th>4</th>\n",
       "      <td>1</td>\n",
       "      <td>1</td>\n",
       "      <td>2</td>\n",
       "      <td>52</td>\n",
       "      <td>NaN</td>\n",
       "      <td>0</td>\n",
       "      <td>NaN</td>\n",
       "      <td>NaN</td>\n",
       "      <td>0</td>\n",
       "    </tr>\n",
       "    <tr>\n",
       "      <th>...</th>\n",
       "      <td>...</td>\n",
       "      <td>...</td>\n",
       "      <td>...</td>\n",
       "      <td>...</td>\n",
       "      <td>...</td>\n",
       "      <td>...</td>\n",
       "      <td>...</td>\n",
       "      <td>...</td>\n",
       "      <td>...</td>\n",
       "    </tr>\n",
       "    <tr>\n",
       "      <th>7</th>\n",
       "      <td>0</td>\n",
       "      <td>2</td>\n",
       "      <td>4</td>\n",
       "      <td>179</td>\n",
       "      <td>14.0</td>\n",
       "      <td>2</td>\n",
       "      <td>NaN</td>\n",
       "      <td>NaN</td>\n",
       "      <td>9999</td>\n",
       "    </tr>\n",
       "    <tr>\n",
       "      <th>8</th>\n",
       "      <td>2</td>\n",
       "      <td>2</td>\n",
       "      <td>4</td>\n",
       "      <td>184</td>\n",
       "      <td>NaN</td>\n",
       "      <td>0</td>\n",
       "      <td>NaN</td>\n",
       "      <td>NaN</td>\n",
       "      <td>9999</td>\n",
       "    </tr>\n",
       "    <tr>\n",
       "      <th>9</th>\n",
       "      <td>1</td>\n",
       "      <td>1</td>\n",
       "      <td>4</td>\n",
       "      <td>438</td>\n",
       "      <td>NaN</td>\n",
       "      <td>0</td>\n",
       "      <td>NaN</td>\n",
       "      <td>NaN</td>\n",
       "      <td>9999</td>\n",
       "    </tr>\n",
       "    <tr>\n",
       "      <th>10</th>\n",
       "      <td>0</td>\n",
       "      <td>2</td>\n",
       "      <td>4</td>\n",
       "      <td>745</td>\n",
       "      <td>0.0</td>\n",
       "      <td>1</td>\n",
       "      <td>NaN</td>\n",
       "      <td>NaN</td>\n",
       "      <td>9999</td>\n",
       "    </tr>\n",
       "    <tr>\n",
       "      <th>11</th>\n",
       "      <td>2</td>\n",
       "      <td>2</td>\n",
       "      <td>4</td>\n",
       "      <td>750</td>\n",
       "      <td>NaN</td>\n",
       "      <td>0</td>\n",
       "      <td>NaN</td>\n",
       "      <td>NaN</td>\n",
       "      <td>9999</td>\n",
       "    </tr>\n",
       "  </tbody>\n",
       "</table>\n",
       "<p>134142 rows × 9 columns</p>\n",
       "</div>"
      ],
      "text/plain": [
       "    ScoreType  ScoringSide  Period  SecondsElapsedInQuarter  \\\n",
       "0           1            1       1                      283   \n",
       "1           0            2       1                      559   \n",
       "2           2            2       1                      564   \n",
       "3           1            2       1                      759   \n",
       "4           1            1       2                       52   \n",
       "..        ...          ...     ...                      ...   \n",
       "7           0            2       4                      179   \n",
       "8           2            2       4                      184   \n",
       "9           1            1       4                      438   \n",
       "10          0            2       4                      745   \n",
       "11          2            2       4                      750   \n",
       "\n",
       "    ScoringPlayerIndex  Method  ScoredByPassingPlayerIndex  \\\n",
       "0                  NaN       0                         NaN   \n",
       "1                  7.0       1                         0.0   \n",
       "2                  NaN       0                         NaN   \n",
       "3                  NaN       0                         NaN   \n",
       "4                  NaN       0                         NaN   \n",
       "..                 ...     ...                         ...   \n",
       "7                 14.0       2                         NaN   \n",
       "8                  NaN       0                         NaN   \n",
       "9                  NaN       0                         NaN   \n",
       "10                 0.0       1                         NaN   \n",
       "11                 NaN       0                         NaN   \n",
       "\n",
       "    ScoredByPassingPlayerId  SimIndex  \n",
       "0                       NaN         0  \n",
       "1                    1519.0         0  \n",
       "2                       NaN         0  \n",
       "3                       NaN         0  \n",
       "4                       NaN         0  \n",
       "..                      ...       ...  \n",
       "7                       NaN      9999  \n",
       "8                       NaN      9999  \n",
       "9                       NaN      9999  \n",
       "10                      NaN      9999  \n",
       "11                      NaN      9999  \n",
       "\n",
       "[134142 rows x 9 columns]"
      ]
     },
     "execution_count": 76,
     "metadata": {},
     "output_type": "execute_result"
    }
   ],
   "source": [
    "SimulationResults[\"ScoringPlays\"]"
   ]
  }
 ],
 "metadata": {
  "kernelspec": {
   "display_name": "ds_env",
   "language": "python",
   "name": "python3"
  },
  "language_info": {
   "codemirror_mode": {
    "name": "ipython",
    "version": 3
   },
   "file_extension": ".py",
   "mimetype": "text/x-python",
   "name": "python",
   "nbconvert_exporter": "python",
   "pygments_lexer": "ipython3",
   "version": "3.10.4"
  },
  "orig_nbformat": 4,
  "vscode": {
   "interpreter": {
    "hash": "72fde9fee9d9bfe008ca6cd084e260fdbdbfb2027fdd2a1d7f3c113ef7b9a6f0"
   }
  }
 },
 "nbformat": 4,
 "nbformat_minor": 2
}
