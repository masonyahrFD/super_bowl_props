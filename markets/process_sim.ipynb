{
 "cells": [
  {
   "cell_type": "code",
   "execution_count": 34,
   "metadata": {},
   "outputs": [
    {
     "name": "stdout",
     "output_type": "stream",
     "text": [
      "dict_keys(['GameId', 'Solution', 'MarketIdentifiers', 'BatchingEnabled', 'HomePlayers', 'AwayPlayers', 'SimulationResults', 'NextPlayProbabilities', 'EventId', 'NumberOfSimulations', 'HomeTeamStats', 'AwayTeamStats', 'ModelInputs'])\n",
      "Parsing results for 10000 of simulations\n"
     ]
    },
    {
     "name": "stderr",
     "output_type": "stream",
     "text": [
      "100%|██████████| 10000/10000 [03:28<00:00, 47.93it/s]\n"
     ]
    }
   ],
   "source": [
    "import pandas as pd\n",
    "import numpy as np\n",
    "import json \n",
    "from tqdm import tqdm\n",
    "\n",
    "f = open(\"../data/CorrelationId_3b7de686-652a-4ba9-8ce3-f586a0119315_Timestamp_2023-01-30_21_38_15_817.json\") # whatever the name of your sim json file is\n",
    "sims = json.load(f)\n",
    "\n",
    "print(sims.keys())\n",
    "# SimulationResults has the goods in it\n",
    "\n",
    "def to_df(x, name=None):\n",
    "    \"\"\"\n",
    "    Simple function that converts\n",
    "    different objects to a pandas\n",
    "    DataFrame. (Probably bad code)\n",
    "    \"\"\"\n",
    "    try:\n",
    "        out = pd.DataFrame(x)\n",
    "    except:\n",
    "        try:\n",
    "            out = pd.DataFrame(x, index = [0])\n",
    "            if name is not None:\n",
    "                out.columns = [f\"{name}_{c}\" for c in out.columns]\n",
    "        except:\n",
    "            out = pd.DataFrame({name:x},index=[0])\n",
    "    return out\n",
    "\n",
    "def parse_sim_results(sims, SimIndex):\n",
    "    \"\"\"\n",
    "    Function to process a single simulation\n",
    "    \"\"\"\n",
    "    # pull out simulation result\n",
    "    result = sims[\"SimulationResults\"][SimIndex]\n",
    "    \n",
    "    result_dict = {\"SimResults\": pd.DataFrame({\"SimIndex\":SimIndex},index=[0])}\n",
    "    for key in result.keys():\n",
    "        element_df = to_df(result[key], key)\n",
    "        if element_df.shape[0] == 1:\n",
    "            result_dict[\"SimResults\"] = pd.concat([result_dict[\"SimResults\"], element_df], axis = 1)\n",
    "        else:\n",
    "            if \"SimIndex\" not in element_df.columns:\n",
    "                element_df[\"SimIndex\"] = SimIndex\n",
    "            result_dict[key] = element_df\n",
    "\n",
    "    return result_dict\n",
    "\n",
    "def process_simulation_results(sims):\n",
    "    \"\"\"\n",
    "    Function to process all of the sims\n",
    "    \"\"\"\n",
    "    n_sims = sims[\"NumberOfSimulations\"]\n",
    "    print(f\"Parsing results for {n_sims} of simulations\")\n",
    "\n",
    "    sim_results = {}\n",
    "    for i in tqdm(range(n_sims)):\n",
    "        sim_i_result = parse_sim_results(sims, i)\n",
    "        for key in sim_i_result.keys():\n",
    "            if key in sim_results.keys():\n",
    "                sim_results[key] = pd.concat([sim_results[key], sim_i_result[key]], axis=0)\n",
    "            else:\n",
    "                sim_results[key] = sim_i_result[key]\n",
    "\n",
    "    return sim_results\n",
    "\n",
    "\n",
    "# Process the Simulation Results\n",
    "SimulationResults = process_simulation_results(sims)\n"
   ]
  },
  {
   "cell_type": "code",
   "execution_count": 35,
   "metadata": {},
   "outputs": [
    {
     "data": {
      "text/plain": [
       "10223102"
      ]
     },
     "execution_count": 35,
     "metadata": {},
     "output_type": "execute_result"
    }
   ],
   "source": [
    "sims[\"EventId\"]"
   ]
  },
  {
   "cell_type": "code",
   "execution_count": 36,
   "metadata": {},
   "outputs": [
    {
     "data": {
      "text/plain": [
       "dict_keys(['SimResults', 'ScoringPlays', 'PlayerYards', 'HomePlayerReceptions', 'AwayPlayerReceptions'])"
      ]
     },
     "execution_count": 36,
     "metadata": {},
     "output_type": "execute_result"
    }
   ],
   "source": [
    "SimulationResults.keys()"
   ]
  },
  {
   "cell_type": "code",
   "execution_count": 37,
   "metadata": {},
   "outputs": [],
   "source": [
    "# pull out id tables\n",
    "AwayPlayers = pd.DataFrame(sims[\"AwayPlayers\"])\n",
    "HomePlayers = pd.DataFrame(sims[\"HomePlayers\"])"
   ]
  },
  {
   "attachments": {},
   "cell_type": "markdown",
   "metadata": {},
   "source": [
    "Proposition Types:\n",
    "- 1 = passing yards\n",
    "- 5 = rushing yards\n",
    "- 6 = rushing att -- > not certain\n",
    "- 8 = recieving yards\n",
    "- 9 = Receptions\n",
    "- 13 = Total Yards"
   ]
  },
  {
   "attachments": {},
   "cell_type": "markdown",
   "metadata": {},
   "source": [
    "## Any Player to Rush for 100 Yards"
   ]
  },
  {
   "cell_type": "code",
   "execution_count": 43,
   "metadata": {},
   "outputs": [
    {
     "data": {
      "text/plain": [
       "0.259"
      ]
     },
     "execution_count": 43,
     "metadata": {},
     "output_type": "execute_result"
    }
   ],
   "source": [
    "def any_player_to_rush_for_x_yards(SimulationResults, yards):\n",
    "\n",
    "    plr_yards = SimulationResults[\"PlayerYards\"]\\\n",
    "        .query(\"PropositionType==5\").copy()\n",
    "        \n",
    "    plr_yards[\"over_x\"] = [1 if x > yards else 0 for x in plr_yards[\"YardsGained\"]]\n",
    "\n",
    "    yards_sim = plr_yards.groupby(\"SimIndex\").agg({\"over_x\":\"sum\"}).reset_index()\n",
    "    yards_sim[\"over_x\"] = [1 if x > 0 else 0 for x in yards_sim[\"over_x\"]]\n",
    "\n",
    "    return np.mean(yards_sim[\"over_x\"])\n",
    "\n",
    "any_player_to_rush_for_x_yards(SimulationResults, 100)"
   ]
  },
  {
   "attachments": {},
   "cell_type": "markdown",
   "metadata": {},
   "source": [
    "## Will Team X Rush for  TD?\n",
    "\n",
    "- Home = Philly\n",
    "- Away = KC"
   ]
  },
  {
   "cell_type": "code",
   "execution_count": 44,
   "metadata": {},
   "outputs": [
    {
     "data": {
      "text/plain": [
       "HomeRushingTouchdown    1.278282\n",
       "AwayRushingTouchdown    1.732202\n",
       "dtype: float64"
      ]
     },
     "execution_count": 44,
     "metadata": {},
     "output_type": "execute_result"
    }
   ],
   "source": [
    "def teams_to_rush_for_td(SimulationResults):\n",
    "\n",
    "    rush_tds = SimulationResults[\"SimResults\"]\\\n",
    "        .assign(\n",
    "            HomeRushingTouchdowns = lambda x: (\n",
    "                x.HomeTouchdowns_FirstQuarter + x.HomeTouchdowns_SecondQuarter +\n",
    "                x.HomeTouchdowns_ThirdQuarter + x.HomeTouchdowns_FourthQuarter + \n",
    "                x.HomeTouchdowns_Overtime - x.HomePassingTouchdowns\n",
    "            ),\n",
    "            AwayRushingTouchdowns = lambda x: (\n",
    "                x.AwayTouchdowns_FirstQuarter + x.AwayTouchdowns_SecondQuarter +\n",
    "                x.AwayTouchdowns_ThirdQuarter + x.AwayTouchdowns_FourthQuarter + \n",
    "                x.AwayTouchdowns_Overtime - x.AwayPassingTouchdowns\n",
    "            )\n",
    "        ).copy()\n",
    "    rush_tds[\"HomeRushingTouchdown\"] = [1 if x > 0 else 0 for x in rush_tds[\"HomeRushingTouchdowns\"]]\n",
    "    rush_tds[\"AwayRushingTouchdown\"] = [1 if x > 0 else 0 for x in rush_tds[\"AwayRushingTouchdowns\"]]\n",
    "\n",
    "    return rush_tds.agg({\"HomeRushingTouchdown\":\"mean\",\"AwayRushingTouchdown\":\"mean\"})\n",
    "\n",
    "1/teams_to_rush_for_td(SimulationResults)"
   ]
  },
  {
   "attachments": {},
   "cell_type": "markdown",
   "metadata": {},
   "source": [
    "## Yards Head to Head"
   ]
  },
  {
   "cell_type": "code",
   "execution_count": 46,
   "metadata": {},
   "outputs": [
    {
     "name": "stderr",
     "output_type": "stream",
     "text": [
      "/Users/mason.yahr/opt/anaconda3/envs/ds_env/lib/python3.10/site-packages/numpy/core/fromnumeric.py:3432: RuntimeWarning: Mean of empty slice.\n",
      "  return _methods._mean(a, axis=axis, dtype=dtype,\n",
      "/Users/mason.yahr/opt/anaconda3/envs/ds_env/lib/python3.10/site-packages/numpy/core/_methods.py:190: RuntimeWarning: invalid value encountered in double_scalars\n",
      "  ret = ret.dtype.type(ret / rcount)\n"
     ]
    },
    {
     "data": {
      "text/plain": [
       "{'Player1': 'Miles Sanders',\n",
       " 'Player2': 'Christian Pocheco',\n",
       " 'Player1 Prob': nan,\n",
       " 'Spread': nan,\n",
       " 'Prob Player1 Cover': nan,\n",
       " 'Total': nan,\n",
       " 'Prob Over': nan}"
      ]
     },
     "execution_count": 46,
     "metadata": {},
     "output_type": "execute_result"
    }
   ],
   "source": [
    "def head_to_head_yards(sims, SimulationResults, plr1, plr2, prop):\n",
    "\n",
    "    prop_dict = {\n",
    "        \"receiving\": 8,\n",
    "        \"rushing\": 5,\n",
    "        \"passing\": 1\n",
    "    }\n",
    "\n",
    "\n",
    "    assert prop in prop_dict.keys(), \"prop must be in ['receiving', 'rushing', 'passing']\"\n",
    "\n",
    "    # pull out id tables\n",
    "    AwayPlayers = pd.DataFrame(sims[\"AwayPlayers\"])\n",
    "    HomePlayers = pd.DataFrame(sims[\"HomePlayers\"])\n",
    "\n",
    "    yards_df = pd.concat([\n",
    "        HomePlayers[[\"PlayerId\", \"PlayerName\", \"Position\"]]\\\n",
    "            .merge(\n",
    "                SimulationResults[\"PlayerYards\"],\n",
    "                on = \"PlayerId\"\n",
    "            ),\n",
    "        AwayPlayers[[\"PlayerId\", \"PlayerName\", \"Position\"]]\\\n",
    "            .merge(\n",
    "                SimulationResults[\"PlayerYards\"],\n",
    "                on = \"PlayerId\"\n",
    "            )\n",
    "    ],axis=0)\\\n",
    "        .query(f\"PropositionType == {prop_dict[prop]}\")\n",
    "\n",
    "    yards_df = pd.merge(\n",
    "        yards_df.query(f\"PlayerName=='{plr1}'\")[[\"SimIndex\", \"YardsGained\"]],\n",
    "        yards_df.query(f\"PlayerName=='{plr2}'\")[[\"SimIndex\", \"YardsGained\"]],\n",
    "        on = \"SimIndex\", suffixes=[\"_plr1\", \"_plr2\"]\n",
    "    )\n",
    "\n",
    "    yards_df[\"total\"] = yards_df[\"YardsGained_plr1\"] + yards_df[\"YardsGained_plr2\"]\n",
    "    yards_df[\"plr1_diff\"] = yards_df[\"YardsGained_plr1\"] - yards_df[\"YardsGained_plr2\"]\n",
    "    yards_df[\"plr1_more\"] = yards_df.apply(lambda x: 1 if x.YardsGained_plr1 > x.YardsGained_plr2 else 0, axis = 1)\n",
    "\n",
    "    # TOTAL\n",
    "    total = np.round(np.median(yards_df[\"total\"]) * 2)/2\n",
    "    if (total).is_integer():\n",
    "        if(np.mean(yards_df[\"total\"] < total)) < 0.5:\n",
    "            total += 0.5\n",
    "        else:\n",
    "            total -= 0.5\n",
    "\n",
    "    # SPREAD\n",
    "    plr_1_spread = np.round( -1*np.median(yards_df[\"plr1_diff\"]) * 2)/2\n",
    "    if (plr_1_spread).is_integer():\n",
    "        if(np.mean(yards_df[\"plr1_diff\"] < -1*plr_1_spread)) < 0.5:\n",
    "            plr_1_spread -= 0.5\n",
    "        else:\n",
    "            plr_1_spread += 0.5\n",
    "\n",
    "    # MONEYLINE\n",
    "    p_plr1_more = np.mean(yards_df[\"plr1_more\"])\n",
    "\n",
    "    ## add on juice\n",
    "    p_plr1_cover = np.mean(yards_df[\"plr1_diff\"] + plr_1_spread > 0)\n",
    "    p_over = np.mean(np.mean(yards_df[\"total\"] > total))\n",
    "\n",
    "    return {\n",
    "        \"Player1\": plr1,\n",
    "        \"Player2\": plr2,\n",
    "        \"Player1 Prob\": p_plr1_more,\n",
    "        \"Spread\": plr_1_spread,\n",
    "        \"Prob Player1 Cover\": p_plr1_cover,\n",
    "        \"Total\": total,\n",
    "        \"Prob Over\": p_over\n",
    "    }\n",
    "\n",
    "\n",
    "plr1 = \"Miles Sanders\"\n",
    "plr2 = \"Christian Pocheco\"\n",
    "head_to_head_yards(sims, SimulationResults, plr1, plr2, \"receiving\")\n"
   ]
  },
  {
   "cell_type": "code",
   "execution_count": null,
   "metadata": {},
   "outputs": [],
   "source": []
  },
  {
   "cell_type": "code",
   "execution_count": 31,
   "metadata": {},
   "outputs": [
    {
     "data": {
      "text/plain": [
       "-20.5"
      ]
     },
     "execution_count": 31,
     "metadata": {},
     "output_type": "execute_result"
    }
   ],
   "source": [
    "prop_dict = {\n",
    "    \"receiving\": 8,\n",
    "    \"rushing\": 5,\n",
    "    \"passing\": 1\n",
    "}\n",
    "\n",
    "prop = 'rushing'\n",
    "assert prop in prop_dict.keys(), \"prop must be in ['receiving', 'rushing', 'passing']\"\n",
    "\n",
    "# pull out id tables\n",
    "AwayPlayers = pd.DataFrame(sims[\"AwayPlayers\"])\n",
    "HomePlayers = pd.DataFrame(sims[\"HomePlayers\"])\n",
    "\n",
    "yards_df = pd.concat([\n",
    "    HomePlayers[[\"PlayerId\", \"PlayerName\", \"Position\"]]\\\n",
    "        .merge(\n",
    "            SimulationResults[\"PlayerYards\"],\n",
    "            on = \"PlayerId\"\n",
    "        ),\n",
    "    AwayPlayers[[\"PlayerId\", \"PlayerName\", \"Position\"]]\\\n",
    "        .merge(\n",
    "            SimulationResults[\"PlayerYards\"],\n",
    "            on = \"PlayerId\"\n",
    "        )\n",
    "],axis=0)\\\n",
    "    .query(f\"PropositionType == {prop_dict[prop]}\")\n",
    "\n",
    "yards_df = pd.merge(\n",
    "    yards_df.query(f\"PlayerName=='{plr1}'\")[[\"SimIndex\", \"YardsGained\"]],\n",
    "    yards_df.query(f\"PlayerName=='{plr2}'\")[[\"SimIndex\", \"YardsGained\"]],\n",
    "    on = \"SimIndex\", suffixes=[\"_plr1\", \"_plr2\"]\n",
    ")\n",
    "\n",
    "yards_df[\"total\"] = yards_df[\"YardsGained_plr1\"] + yards_df[\"YardsGained_plr2\"]\n",
    "yards_df[\"plr1_diff\"] = yards_df[\"YardsGained_plr1\"] - yards_df[\"YardsGained_plr2\"]\n",
    "yards_df[\"plr1_more\"] = yards_df.apply(lambda x: 1 if x.YardsGained_plr1 > x.YardsGained_plr2 else 0, axis = 1)\n",
    "\n",
    "\n",
    "\n",
    "\n"
   ]
  },
  {
   "cell_type": "code",
   "execution_count": null,
   "metadata": {},
   "outputs": [],
   "source": []
  }
 ],
 "metadata": {
  "kernelspec": {
   "display_name": "ds_env",
   "language": "python",
   "name": "python3"
  },
  "language_info": {
   "codemirror_mode": {
    "name": "ipython",
    "version": 3
   },
   "file_extension": ".py",
   "mimetype": "text/x-python",
   "name": "python",
   "nbconvert_exporter": "python",
   "pygments_lexer": "ipython3",
   "version": "3.10.4"
  },
  "orig_nbformat": 4,
  "vscode": {
   "interpreter": {
    "hash": "72fde9fee9d9bfe008ca6cd084e260fdbdbfb2027fdd2a1d7f3c113ef7b9a6f0"
   }
  }
 },
 "nbformat": 4,
 "nbformat_minor": 2
}
